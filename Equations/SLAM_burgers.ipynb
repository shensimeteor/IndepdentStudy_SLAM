{
 "cells": [
  {
   "cell_type": "markdown",
   "metadata": {},
   "source": [
    "$$ j: \\text{for time;  } i: \\text{for space } $$  \n",
    ". Leap Frog/DuFort-Frankel (starting from the 2nd step) \n",
    "$$ u^{\\text{ } j+1}_i = u^{\\text{ } j-1}_i - \\frac{\\Delta t}{\\Delta x}[u^{\\text{ } j}_i (u^{\\text{ }j}_{i+1} - u^{\\text{ } j}_{i-1})] + \\frac{2\\Delta t}{\\Delta x^2 \\cdot R}[u^{\\text{ } j}_{i+1} - (u^{\\text{ }j+1}_i + u^{\\text{ }j-1}_i) + u^{\\text{ }j}_{i-1} ] $$  \n",
    "$$ c_1=\\frac{2\\Delta t}{\\Delta x^2 \\cdot R} $$  \n",
    "$$ c_0=\\frac{1}{1+c1} $$  \n",
    "$$ \\therefore \\text{ } u^{\\text{ } j+1}_i = c_0 \\cdot [u^{\\text{ } j-1}_i + c1 \\cdot (u^{\\text{ } j}_{i+1} - u^{\\text{ }j-1}_i + u^{\\text{ }j}_{i-1}) -\\frac{\\Delta t}{\\Delta x}u^{\\text{ } j}_i (u^{\\text{ }j}_{i+1} - u^{\\text{ } j}_{i-1}) ] $$ \n",
    "   \n",
    ". simple forward step (for 1st step)\n",
    "$$ u^2_i = u^1_i - \\frac{\\Delta t}{2\\Delta x}u^1_i (u^1_{i+1} - u^1_{i-1}) + \\frac{\\Delta t}{R \\Delta x^2} (u^1_{i+1} + u^1_{i-1} - 2u^1_i)$$  \n",
    "$$ \\therefore u^2_i = u^1_i - \\frac{\\Delta t}{2\\Delta x}u^1_i (u^1_{i+1} - u^1_{i-1}) + \\frac{1}{2}c1  (u^1_{i+1} + u^1_{i-1} - 2u^1_i)$$"
   ]
  },
  {
   "cell_type": "markdown",
   "metadata": {
    "collapsed": true
   },
   "source": [
    "<img src=\"burgers_graph.png\">"
   ]
  },
  {
   "cell_type": "markdown",
   "metadata": {
    "collapsed": true
   },
   "source": [
    "Real model problems:  \n",
    "1. Implicit numeric solution, i.e. calculate X[t=j+1] vector based on set of linear equations, i.e. X[t=j+1, x=i] requires all X[t=j] vector.   \n",
    "     \n",
    "2. How model error($\\eta$) is assigned in each cell? Are they independent among all cells? Real model may have multiple variables (on the same cell), and these variables are more likely to be related, e.g. U/V wind.\n"
   ]
  },
  {
   "cell_type": "markdown",
   "metadata": {
    "collapsed": true
   },
   "source": []
  },
  {
   "cell_type": "code",
   "execution_count": null,
   "metadata": {
    "collapsed": true
   },
   "outputs": [],
   "source": []
  }
 ],
 "metadata": {
  "kernelspec": {
   "display_name": "Python 3",
   "language": "python",
   "name": "python3"
  },
  "language_info": {
   "codemirror_mode": {
    "name": "ipython",
    "version": 3
   },
   "file_extension": ".py",
   "mimetype": "text/x-python",
   "name": "python",
   "nbconvert_exporter": "python",
   "pygments_lexer": "ipython3",
   "version": "3.6.3"
  }
 },
 "nbformat": 4,
 "nbformat_minor": 2
}
